{
 "cells": [
  {
   "cell_type": "code",
   "execution_count": 12,
   "id": "096bcbb4-1acb-4ed3-a1a1-6041e4e99b9a",
   "metadata": {},
   "outputs": [],
   "source": [
    "import json\n",
    "import random"
   ]
  },
  {
   "cell_type": "code",
   "execution_count": 13,
   "id": "8e45a120-62df-4df0-8cbf-d5786f8f8288",
   "metadata": {},
   "outputs": [],
   "source": [
    "with open(\"/Users/arush/downloads/IR_LAMP/Personalized_Product_Rating_validation_input.json\", \"r\") as f:\n",
    "    json_data = json.load(f)"
   ]
  },
  {
   "cell_type": "code",
   "execution_count": 14,
   "id": "9c13a6aa-e1f2-4658-a1ab-b6d87be54c07",
   "metadata": {},
   "outputs": [],
   "source": [
    "selected_objects = random.sample(json_data, 200)\n",
    "selected_json = json.dumps(selected_objects, indent=2)"
   ]
  },
  {
   "cell_type": "code",
   "execution_count": 15,
   "id": "efafa79f-726d-4609-ab46-be46c4fc0fd6",
   "metadata": {},
   "outputs": [],
   "source": [
    "with open(\"sampled_rating.json\", \"w\") as f:\n",
    "    f.write(selected_json)"
   ]
  },
  {
   "cell_type": "code",
   "execution_count": 16,
   "id": "52fae17a-ee0b-4591-ba77-505bb5ffe974",
   "metadata": {},
   "outputs": [
    {
     "name": "stderr",
     "output_type": "stream",
     "text": [
      "Python(27350) MallocStackLogging: can't turn off malloc stack logging because it was not enabled.\n"
     ]
    },
    {
     "name": "stdout",
     "output_type": "stream",
     "text": [
      "Requirement already satisfied: torch in ./flant5/lib/python3.9/site-packages (2.1.1)\n",
      "Requirement already satisfied: torchvision in ./flant5/lib/python3.9/site-packages (0.16.1)\n",
      "Requirement already satisfied: torchaudio in ./flant5/lib/python3.9/site-packages (2.1.1)\n",
      "Requirement already satisfied: sympy in ./flant5/lib/python3.9/site-packages (from torch) (1.12)\n",
      "Requirement already satisfied: fsspec in ./flant5/lib/python3.9/site-packages (from torch) (2023.12.1)\n",
      "Requirement already satisfied: jinja2 in ./flant5/lib/python3.9/site-packages (from torch) (3.1.2)\n",
      "Requirement already satisfied: typing-extensions in ./flant5/lib/python3.9/site-packages (from torch) (4.8.0)\n",
      "Requirement already satisfied: filelock in ./flant5/lib/python3.9/site-packages (from torch) (3.13.1)\n",
      "Requirement already satisfied: networkx in ./flant5/lib/python3.9/site-packages (from torch) (3.2.1)\n",
      "Requirement already satisfied: numpy in ./flant5/lib/python3.9/site-packages (from torchvision) (1.26.2)\n",
      "Requirement already satisfied: pillow!=8.3.*,>=5.3.0 in ./flant5/lib/python3.9/site-packages (from torchvision) (10.1.0)\n",
      "Requirement already satisfied: requests in ./flant5/lib/python3.9/site-packages (from torchvision) (2.31.0)\n",
      "Requirement already satisfied: MarkupSafe>=2.0 in ./flant5/lib/python3.9/site-packages (from jinja2->torch) (2.1.3)\n",
      "Requirement already satisfied: certifi>=2017.4.17 in ./flant5/lib/python3.9/site-packages (from requests->torchvision) (2023.11.17)\n",
      "Requirement already satisfied: idna<4,>=2.5 in ./flant5/lib/python3.9/site-packages (from requests->torchvision) (3.6)\n",
      "Requirement already satisfied: urllib3<3,>=1.21.1 in ./flant5/lib/python3.9/site-packages (from requests->torchvision) (2.1.0)\n",
      "Requirement already satisfied: charset-normalizer<4,>=2 in ./flant5/lib/python3.9/site-packages (from requests->torchvision) (3.3.2)\n",
      "Requirement already satisfied: mpmath>=0.19 in ./flant5/lib/python3.9/site-packages (from sympy->torch) (1.3.0)\n",
      "\u001b[33mWARNING: You are using pip version 21.2.4; however, version 23.3.1 is available.\n",
      "You should consider upgrading via the '/Users/arush/workspace/646proj/LaMP/data/flant5/bin/python3 -m pip install --upgrade pip' command.\u001b[0m\n"
     ]
    },
    {
     "name": "stderr",
     "output_type": "stream",
     "text": [
      "Python(27352) MallocStackLogging: can't turn off malloc stack logging because it was not enabled.\n"
     ]
    },
    {
     "name": "stdout",
     "output_type": "stream",
     "text": [
      "Requirement already satisfied: transformers in ./flant5/lib/python3.9/site-packages (4.35.2)\n",
      "Requirement already satisfied: huggingface-hub<1.0,>=0.16.4 in ./flant5/lib/python3.9/site-packages (from transformers) (0.19.4)\n",
      "Requirement already satisfied: safetensors>=0.3.1 in ./flant5/lib/python3.9/site-packages (from transformers) (0.4.1)\n",
      "Requirement already satisfied: numpy>=1.17 in ./flant5/lib/python3.9/site-packages (from transformers) (1.26.2)\n",
      "Requirement already satisfied: tqdm>=4.27 in ./flant5/lib/python3.9/site-packages (from transformers) (4.66.1)\n",
      "Requirement already satisfied: pyyaml>=5.1 in ./flant5/lib/python3.9/site-packages (from transformers) (6.0.1)\n",
      "Requirement already satisfied: regex!=2019.12.17 in ./flant5/lib/python3.9/site-packages (from transformers) (2023.10.3)\n",
      "Requirement already satisfied: tokenizers<0.19,>=0.14 in ./flant5/lib/python3.9/site-packages (from transformers) (0.15.0)\n",
      "Requirement already satisfied: requests in ./flant5/lib/python3.9/site-packages (from transformers) (2.31.0)\n",
      "Requirement already satisfied: filelock in ./flant5/lib/python3.9/site-packages (from transformers) (3.13.1)\n",
      "Requirement already satisfied: packaging>=20.0 in ./flant5/lib/python3.9/site-packages (from transformers) (23.2)\n",
      "Requirement already satisfied: typing-extensions>=3.7.4.3 in ./flant5/lib/python3.9/site-packages (from huggingface-hub<1.0,>=0.16.4->transformers) (4.8.0)\n",
      "Requirement already satisfied: fsspec>=2023.5.0 in ./flant5/lib/python3.9/site-packages (from huggingface-hub<1.0,>=0.16.4->transformers) (2023.12.1)\n",
      "Requirement already satisfied: urllib3<3,>=1.21.1 in ./flant5/lib/python3.9/site-packages (from requests->transformers) (2.1.0)\n",
      "Requirement already satisfied: idna<4,>=2.5 in ./flant5/lib/python3.9/site-packages (from requests->transformers) (3.6)\n",
      "Requirement already satisfied: charset-normalizer<4,>=2 in ./flant5/lib/python3.9/site-packages (from requests->transformers) (3.3.2)\n",
      "Requirement already satisfied: certifi>=2017.4.17 in ./flant5/lib/python3.9/site-packages (from requests->transformers) (2023.11.17)\n",
      "\u001b[33mWARNING: You are using pip version 21.2.4; however, version 23.3.1 is available.\n",
      "You should consider upgrading via the '/Users/arush/workspace/646proj/LaMP/data/flant5/bin/python3 -m pip install --upgrade pip' command.\u001b[0m\n"
     ]
    },
    {
     "name": "stderr",
     "output_type": "stream",
     "text": [
      "Python(27353) MallocStackLogging: can't turn off malloc stack logging because it was not enabled.\n",
      "/Users/arush/workspace/646proj/LaMP/data/flant5/lib/python3.9/site-packages/urllib3/__init__.py:34: NotOpenSSLWarning: urllib3 v2 only supports OpenSSL 1.1.1+, currently the 'ssl' module is compiled with 'LibreSSL 2.8.3'. See: https://github.com/urllib3/urllib3/issues/3020\n",
      "  warnings.warn(\n"
     ]
    }
   ],
   "source": [
    "!pip3 install torch torchvision torchaudio\n",
    "!pip3 install transformers\n",
    "from sentence_transformers import SentenceTransformer\n",
    "from sentence_transformers import util\n",
    "from tqdm import tqdm\n",
    "import torch"
   ]
  },
  {
   "cell_type": "code",
   "execution_count": 17,
   "id": "31e53456-8cf6-458b-b073-ea64f1e788ba",
   "metadata": {},
   "outputs": [],
   "source": [
    "model = SentenceTransformer('msmarco-distilbert-base-dot-prod-v3')"
   ]
  },
  {
   "cell_type": "code",
   "execution_count": 18,
   "id": "ff7a3abc-b341-4d28-bc38-7ace653b8e5f",
   "metadata": {},
   "outputs": [],
   "source": [
    "with open(\"/Users/arush/workspace/646proj/LaMP/data/sampled_rating.json\", \"r\") as f:\n",
    "    json_data = json.load(f)"
   ]
  },
  {
   "cell_type": "code",
   "execution_count": 19,
   "id": "fc0e9f8d-298a-4a93-bef0-bfb196f738f8",
   "metadata": {},
   "outputs": [
    {
     "name": "stderr",
     "output_type": "stream",
     "text": [
      "Python(27354) MallocStackLogging: can't turn off malloc stack logging because it was not enabled.\n"
     ]
    },
    {
     "data": {
      "application/vnd.jupyter.widget-view+json": {
       "model_id": "330c437c31cd4d8b81e890f2e54d96e4",
       "version_major": 2,
       "version_minor": 0
      },
      "text/plain": [
       "Loading checkpoint shards:   0%|          | 0/2 [00:00<?, ?it/s]"
      ]
     },
     "metadata": {},
     "output_type": "display_data"
    }
   ],
   "source": [
    "from transformers import AutoModelForSeq2SeqLM, AutoTokenizer\n",
    "llm_model = AutoModelForSeq2SeqLM.from_pretrained(\"google/flan-t5-xl\")\n",
    "tokenizer = AutoTokenizer.from_pretrained(\"google/flan-t5-xl\")"
   ]
  },
  {
   "cell_type": "code",
   "execution_count": 23,
   "id": "84f47067-f043-4df2-8327-d4952fac21c7",
   "metadata": {},
   "outputs": [
    {
     "name": "stderr",
     "output_type": "stream",
     "text": [
      "100%|█████████████████████████████████████████| 200/200 [33:48<00:00, 10.14s/it]\n"
     ]
    }
   ],
   "source": [
    "import textwrap\n",
    "import json\n",
    "i=0\n",
    "golds = []\n",
    "for user in tqdm(json_data):\n",
    "    i +=1\n",
    "    corpus = []\n",
    "    scores = []\n",
    "    profile = user['profile']\n",
    "    query = user['input']\n",
    "    \n",
    "    input_prompt = \"Your task is to answer the query based on user's relevant history interactions. Here’s the query: {}\\nHere are user's past interactions: \".format(query)\n",
    "    past_interactions = []\n",
    "\n",
    "    for doc in profile:\n",
    "        corpus.append(doc['text'])\n",
    "        scores.append(doc['score'])\n",
    "    corpus_embeddings = model.encode(corpus, convert_to_tensor=True)\n",
    "    query_embedding = model.encode(query, convert_to_tensor=True)\n",
    "    hits = util.semantic_search(query_embedding, corpus_embeddings, top_k=3, score_function=util.dot_score)\n",
    "    hits = hits[0]\n",
    "    predictions = {}\n",
    "    max_len = 2040\n",
    "    \n",
    "    for hit in hits:\n",
    "        new_instance_user_profile = []\n",
    "        new_past_interaction = \"User gave the following review: '{}' and rated the product '{}/5'\".format(corpus[hit['corpus_id']], scores[hit['corpus_id']])\n",
    "        if len(input_prompt) > max_len:\n",
    "            input_prompt = textwrap.shorten(input_prompt, width=max_len)\n",
    "        elif (len(input_prompt) + len(new_past_interaction)) < max_len: \n",
    "            new_instance_user_profile.append(new_past_interaction)\n",
    "            input_prompt += \"\\n\" + new_instance_user_profile[0]\n",
    "        else: \n",
    "            break\n",
    "    inputs = tokenizer(input_prompt, return_tensors=\"pt\")\n",
    "    outputs = llm_model.generate(**inputs)\n",
    "    predictions[\"output\"] = tokenizer.batch_decode(outputs, skip_special_tokens=True)[0]\n",
    "    predictions[\"id\"] = user[\"id\"]\n",
    "    golds.append(predictions)\n",
    "\n",
    "final_json = {}\n",
    "final_json[\"task\"] = \"LaMP_3\"\n",
    "final_json[\"golds\"] = golds"
   ]
  },
  {
   "cell_type": "code",
   "execution_count": 24,
   "id": "de4f6ff5-e6a7-4731-9bad-f4242a16132e",
   "metadata": {},
   "outputs": [],
   "source": [
    "with open(\"pred_prod_rating_personalization.json\", \"w\") as f:\n",
    "    json.dump(final_json, f)"
   ]
  }
 ],
 "metadata": {
  "kernelspec": {
   "display_name": "Python 3 (ipykernel)",
   "language": "python",
   "name": "python3"
  },
  "language_info": {
   "codemirror_mode": {
    "name": "ipython",
    "version": 3
   },
   "file_extension": ".py",
   "mimetype": "text/x-python",
   "name": "python",
   "nbconvert_exporter": "python",
   "pygments_lexer": "ipython3",
   "version": "3.9.6"
  }
 },
 "nbformat": 4,
 "nbformat_minor": 5
}
