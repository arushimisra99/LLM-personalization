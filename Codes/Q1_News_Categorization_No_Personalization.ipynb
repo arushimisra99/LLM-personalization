{
 "cells": [
  {
   "cell_type": "code",
   "execution_count": 1,
   "id": "9b489f0a-785e-46ec-8377-7185d2db277d",
   "metadata": {},
   "outputs": [
    {
     "name": "stdout",
     "output_type": "stream",
     "text": [
      "Defaulting to user installation because normal site-packages is not writeable\n",
      "Requirement already satisfied: torch in /Users/arush/Library/Python/3.9/lib/python/site-packages (2.1.1)\n",
      "Requirement already satisfied: torchvision in /Users/arush/Library/Python/3.9/lib/python/site-packages (0.16.1)\n",
      "Requirement already satisfied: torchaudio in /Users/arush/Library/Python/3.9/lib/python/site-packages (2.1.1)\n",
      "Requirement already satisfied: jinja2 in /Users/arush/Library/Python/3.9/lib/python/site-packages (from torch) (3.1.2)\n",
      "Requirement already satisfied: sympy in /Users/arush/Library/Python/3.9/lib/python/site-packages (from torch) (1.12)\n",
      "Requirement already satisfied: filelock in /Users/arush/Library/Python/3.9/lib/python/site-packages (from torch) (3.12.4)\n",
      "Requirement already satisfied: typing-extensions in /Users/arush/Library/Python/3.9/lib/python/site-packages (from torch) (4.8.0)\n",
      "Requirement already satisfied: networkx in /Users/arush/Library/Python/3.9/lib/python/site-packages (from torch) (3.2.1)\n",
      "Requirement already satisfied: fsspec in /Users/arush/Library/Python/3.9/lib/python/site-packages (from torch) (2023.12.1)\n",
      "Requirement already satisfied: requests in /Users/arush/Library/Python/3.9/lib/python/site-packages (from torchvision) (2.31.0)\n",
      "Requirement already satisfied: pillow!=8.3.*,>=5.3.0 in /Users/arush/Library/Python/3.9/lib/python/site-packages (from torchvision) (10.1.0)\n",
      "Requirement already satisfied: numpy in /Users/arush/Library/Python/3.9/lib/python/site-packages (from torchvision) (1.26.2)\n",
      "Requirement already satisfied: MarkupSafe>=2.0 in /Users/arush/Library/Python/3.9/lib/python/site-packages (from jinja2->torch) (2.1.3)\n",
      "Requirement already satisfied: urllib3<3,>=1.21.1 in /Users/arush/Library/Python/3.9/lib/python/site-packages (from requests->torchvision) (2.0.7)\n",
      "Requirement already satisfied: certifi>=2017.4.17 in /Users/arush/Library/Python/3.9/lib/python/site-packages (from requests->torchvision) (2023.7.22)\n",
      "Requirement already satisfied: idna<4,>=2.5 in /Users/arush/Library/Python/3.9/lib/python/site-packages (from requests->torchvision) (3.4)\n",
      "Requirement already satisfied: charset-normalizer<4,>=2 in /Users/arush/Library/Python/3.9/lib/python/site-packages (from requests->torchvision) (3.3.0)\n",
      "Requirement already satisfied: mpmath>=0.19 in /Users/arush/Library/Python/3.9/lib/python/site-packages (from sympy->torch) (1.3.0)\n",
      "\u001b[33mWARNING: You are using pip version 21.2.4; however, version 23.3.1 is available.\n",
      "You should consider upgrading via the '/Applications/Xcode.app/Contents/Developer/usr/bin/python3 -m pip install --upgrade pip' command.\u001b[0m\n",
      "Defaulting to user installation because normal site-packages is not writeable\n",
      "Requirement already satisfied: transformers in /Users/arush/Library/Python/3.9/lib/python/site-packages (4.35.2)\n",
      "Requirement already satisfied: pyyaml>=5.1 in /Users/arush/Library/Python/3.9/lib/python/site-packages (from transformers) (6.0.1)\n",
      "Requirement already satisfied: tokenizers<0.19,>=0.14 in /Users/arush/Library/Python/3.9/lib/python/site-packages (from transformers) (0.15.0)\n",
      "Requirement already satisfied: filelock in /Users/arush/Library/Python/3.9/lib/python/site-packages (from transformers) (3.12.4)\n",
      "Requirement already satisfied: regex!=2019.12.17 in /Users/arush/Library/Python/3.9/lib/python/site-packages (from transformers) (2023.10.3)\n",
      "Requirement already satisfied: requests in /Users/arush/Library/Python/3.9/lib/python/site-packages (from transformers) (2.31.0)\n",
      "Requirement already satisfied: tqdm>=4.27 in /Users/arush/Library/Python/3.9/lib/python/site-packages (from transformers) (4.66.1)\n",
      "Requirement already satisfied: packaging>=20.0 in /Users/arush/Library/Python/3.9/lib/python/site-packages (from transformers) (23.2)\n",
      "Requirement already satisfied: safetensors>=0.3.1 in /Users/arush/Library/Python/3.9/lib/python/site-packages (from transformers) (0.4.1)\n",
      "Requirement already satisfied: huggingface-hub<1.0,>=0.16.4 in /Users/arush/Library/Python/3.9/lib/python/site-packages (from transformers) (0.19.4)\n",
      "Requirement already satisfied: numpy>=1.17 in /Users/arush/Library/Python/3.9/lib/python/site-packages (from transformers) (1.26.2)\n",
      "Requirement already satisfied: fsspec>=2023.5.0 in /Users/arush/Library/Python/3.9/lib/python/site-packages (from huggingface-hub<1.0,>=0.16.4->transformers) (2023.12.1)\n",
      "Requirement already satisfied: typing-extensions>=3.7.4.3 in /Users/arush/Library/Python/3.9/lib/python/site-packages (from huggingface-hub<1.0,>=0.16.4->transformers) (4.8.0)\n",
      "Requirement already satisfied: urllib3<3,>=1.21.1 in /Users/arush/Library/Python/3.9/lib/python/site-packages (from requests->transformers) (2.0.7)\n",
      "Requirement already satisfied: idna<4,>=2.5 in /Users/arush/Library/Python/3.9/lib/python/site-packages (from requests->transformers) (3.4)\n",
      "Requirement already satisfied: certifi>=2017.4.17 in /Users/arush/Library/Python/3.9/lib/python/site-packages (from requests->transformers) (2023.7.22)\n",
      "Requirement already satisfied: charset-normalizer<4,>=2 in /Users/arush/Library/Python/3.9/lib/python/site-packages (from requests->transformers) (3.3.0)\n",
      "\u001b[33mWARNING: You are using pip version 21.2.4; however, version 23.3.1 is available.\n",
      "You should consider upgrading via the '/Applications/Xcode.app/Contents/Developer/usr/bin/python3 -m pip install --upgrade pip' command.\u001b[0m\n",
      "Defaulting to user installation because normal site-packages is not writeable\n",
      "Collecting sentence_transformers\n",
      "  Using cached sentence-transformers-2.2.2.tar.gz (85 kB)\n",
      "Requirement already satisfied: transformers<5.0.0,>=4.6.0 in /Users/arush/Library/Python/3.9/lib/python/site-packages (from sentence_transformers) (4.35.2)\n",
      "Requirement already satisfied: tqdm in /Users/arush/Library/Python/3.9/lib/python/site-packages (from sentence_transformers) (4.66.1)\n",
      "Requirement already satisfied: torch>=1.6.0 in /Users/arush/Library/Python/3.9/lib/python/site-packages (from sentence_transformers) (2.1.1)\n",
      "Requirement already satisfied: torchvision in /Users/arush/Library/Python/3.9/lib/python/site-packages (from sentence_transformers) (0.16.1)\n",
      "Requirement already satisfied: numpy in /Users/arush/Library/Python/3.9/lib/python/site-packages (from sentence_transformers) (1.26.2)\n",
      "Collecting scikit-learn\n",
      "  Using cached scikit_learn-1.3.2-cp39-cp39-macosx_12_0_arm64.whl (9.5 MB)\n",
      "Collecting scipy\n",
      "  Using cached scipy-1.11.4-cp39-cp39-macosx_12_0_arm64.whl (29.7 MB)\n",
      "Requirement already satisfied: nltk in /Users/arush/Library/Python/3.9/lib/python/site-packages (from sentence_transformers) (3.8.1)\n",
      "Collecting sentencepiece\n",
      "  Using cached sentencepiece-0.1.99-cp39-cp39-macosx_11_0_arm64.whl (1.2 MB)\n",
      "Requirement already satisfied: huggingface-hub>=0.4.0 in /Users/arush/Library/Python/3.9/lib/python/site-packages (from sentence_transformers) (0.19.4)\n",
      "Requirement already satisfied: pyyaml>=5.1 in /Users/arush/Library/Python/3.9/lib/python/site-packages (from huggingface-hub>=0.4.0->sentence_transformers) (6.0.1)\n",
      "Requirement already satisfied: filelock in /Users/arush/Library/Python/3.9/lib/python/site-packages (from huggingface-hub>=0.4.0->sentence_transformers) (3.12.4)\n",
      "Requirement already satisfied: packaging>=20.9 in /Users/arush/Library/Python/3.9/lib/python/site-packages (from huggingface-hub>=0.4.0->sentence_transformers) (23.2)\n",
      "Requirement already satisfied: requests in /Users/arush/Library/Python/3.9/lib/python/site-packages (from huggingface-hub>=0.4.0->sentence_transformers) (2.31.0)\n",
      "Requirement already satisfied: fsspec>=2023.5.0 in /Users/arush/Library/Python/3.9/lib/python/site-packages (from huggingface-hub>=0.4.0->sentence_transformers) (2023.12.1)\n",
      "Requirement already satisfied: typing-extensions>=3.7.4.3 in /Users/arush/Library/Python/3.9/lib/python/site-packages (from huggingface-hub>=0.4.0->sentence_transformers) (4.8.0)\n",
      "Requirement already satisfied: jinja2 in /Users/arush/Library/Python/3.9/lib/python/site-packages (from torch>=1.6.0->sentence_transformers) (3.1.2)\n",
      "Requirement already satisfied: sympy in /Users/arush/Library/Python/3.9/lib/python/site-packages (from torch>=1.6.0->sentence_transformers) (1.12)\n",
      "Requirement already satisfied: networkx in /Users/arush/Library/Python/3.9/lib/python/site-packages (from torch>=1.6.0->sentence_transformers) (3.2.1)\n",
      "Requirement already satisfied: regex!=2019.12.17 in /Users/arush/Library/Python/3.9/lib/python/site-packages (from transformers<5.0.0,>=4.6.0->sentence_transformers) (2023.10.3)\n",
      "Requirement already satisfied: safetensors>=0.3.1 in /Users/arush/Library/Python/3.9/lib/python/site-packages (from transformers<5.0.0,>=4.6.0->sentence_transformers) (0.4.1)\n",
      "Requirement already satisfied: tokenizers<0.19,>=0.14 in /Users/arush/Library/Python/3.9/lib/python/site-packages (from transformers<5.0.0,>=4.6.0->sentence_transformers) (0.15.0)\n",
      "Requirement already satisfied: MarkupSafe>=2.0 in /Users/arush/Library/Python/3.9/lib/python/site-packages (from jinja2->torch>=1.6.0->sentence_transformers) (2.1.3)\n",
      "Requirement already satisfied: joblib in /Users/arush/Library/Python/3.9/lib/python/site-packages (from nltk->sentence_transformers) (1.3.2)\n",
      "Requirement already satisfied: click in /Users/arush/Library/Python/3.9/lib/python/site-packages (from nltk->sentence_transformers) (8.1.7)\n",
      "Requirement already satisfied: certifi>=2017.4.17 in /Users/arush/Library/Python/3.9/lib/python/site-packages (from requests->huggingface-hub>=0.4.0->sentence_transformers) (2023.7.22)\n",
      "Requirement already satisfied: charset-normalizer<4,>=2 in /Users/arush/Library/Python/3.9/lib/python/site-packages (from requests->huggingface-hub>=0.4.0->sentence_transformers) (3.3.0)\n",
      "Requirement already satisfied: urllib3<3,>=1.21.1 in /Users/arush/Library/Python/3.9/lib/python/site-packages (from requests->huggingface-hub>=0.4.0->sentence_transformers) (2.0.7)\n",
      "Requirement already satisfied: idna<4,>=2.5 in /Users/arush/Library/Python/3.9/lib/python/site-packages (from requests->huggingface-hub>=0.4.0->sentence_transformers) (3.4)\n",
      "Collecting threadpoolctl>=2.0.0\n",
      "  Using cached threadpoolctl-3.2.0-py3-none-any.whl (15 kB)\n",
      "Requirement already satisfied: mpmath>=0.19 in /Users/arush/Library/Python/3.9/lib/python/site-packages (from sympy->torch>=1.6.0->sentence_transformers) (1.3.0)\n",
      "Requirement already satisfied: pillow!=8.3.*,>=5.3.0 in /Users/arush/Library/Python/3.9/lib/python/site-packages (from torchvision->sentence_transformers) (10.1.0)\n",
      "Building wheels for collected packages: sentence-transformers\n",
      "  Building wheel for sentence-transformers (setup.py) ... \u001b[?25ldone\n",
      "\u001b[?25h  Created wheel for sentence-transformers: filename=sentence_transformers-2.2.2-py3-none-any.whl size=125938 sha256=d62c467c27bdb1de0cae4427632b6703542c3bedcc5fa4850a38dfcc63027cc8\n",
      "  Stored in directory: /Users/arush/Library/Caches/pip/wheels/71/67/06/162a3760c40d74dd40bc855d527008d26341c2b0ecf3e8e11f\n",
      "Successfully built sentence-transformers\n",
      "Installing collected packages: threadpoolctl, scipy, sentencepiece, scikit-learn, sentence-transformers\n",
      "Successfully installed scikit-learn-1.3.2 scipy-1.11.4 sentence-transformers-2.2.2 sentencepiece-0.1.99 threadpoolctl-3.2.0\n",
      "\u001b[33mWARNING: You are using pip version 21.2.4; however, version 23.3.1 is available.\n",
      "You should consider upgrading via the '/Applications/Xcode.app/Contents/Developer/usr/bin/python3 -m pip install --upgrade pip' command.\u001b[0m\n"
     ]
    }
   ],
   "source": [
    "!pip3 install torch torchvision torchaudio\n",
    "!pip3 install transformers\n",
    "!pip3 install sentence_transformers"
   ]
  },
  {
   "cell_type": "code",
   "execution_count": 23,
   "id": "1a0f1222",
   "metadata": {},
   "outputs": [],
   "source": [
    "from sentence_transformers import SentenceTransformer\n",
    "from sentence_transformers import util\n",
    "from tqdm import tqdm\n",
    "import torch\n",
    "import json\n",
    "import requests"
   ]
  },
  {
   "cell_type": "code",
   "execution_count": 24,
   "id": "2894148a-0aae-4973-98f9-625c5c456e4f",
   "metadata": {},
   "outputs": [],
   "source": [
    "model = SentenceTransformer('msmarco-distilbert-base-dot-prod-v3')"
   ]
  },
  {
   "cell_type": "code",
   "execution_count": 25,
   "id": "877590b7-ec4a-4fbe-93ae-6a41d6b48e47",
   "metadata": {},
   "outputs": [],
   "source": [
    "with open(\"/Users/arush/downloads/IR_LAMP/Personalized_News_Categorization_validation_input.json\", \"r\") as f:\n",
    "    json_data = json.load(f)"
   ]
  },
  {
   "cell_type": "code",
   "execution_count": 26,
   "id": "838b9998-8045-409e-ac95-c9ca921a49a0",
   "metadata": {},
   "outputs": [
    {
     "data": {
      "application/vnd.jupyter.widget-view+json": {
       "model_id": "fe2a3a8a7569459da90e6381c4849d04",
       "version_major": 2,
       "version_minor": 0
      },
      "text/plain": [
       "Loading checkpoint shards:   0%|          | 0/2 [00:00<?, ?it/s]"
      ]
     },
     "metadata": {},
     "output_type": "display_data"
    }
   ],
   "source": [
    "from transformers import AutoModelForSeq2SeqLM, AutoTokenizer\n",
    "llm_model = AutoModelForSeq2SeqLM.from_pretrained(\"google/flan-t5-xl\")\n",
    "tokenizer = AutoTokenizer.from_pretrained(\"google/flan-t5-xl\")"
   ]
  },
  {
   "cell_type": "code",
   "execution_count": 27,
   "id": "c6d7b06f-a7c5-43d9-b32e-c4f16ae3f19f",
   "metadata": {},
   "outputs": [
    {
     "name": "stderr",
     "output_type": "stream",
     "text": [
      "  6%|██▌                                       | 12/200 [01:13<20:18,  6.48s/it]Token indices sequence length is longer than the specified maximum sequence length for this model (559 > 512). Running this sequence through the model will result in indexing errors\n",
      "100%|█████████████████████████████████████████| 200/200 [25:09<00:00,  7.55s/it]\n"
     ]
    }
   ],
   "source": [
    "golds = []\n",
    "for user in tqdm(json_data):\n",
    "    predictions = {}\n",
    "    query = user['input']\n",
    "    inputs = tokenizer(query, return_tensors = \"pt\")\n",
    "    outputs = llm_model.generate(**inputs)\n",
    "    \n",
    "    predictions[\"output\"] = tokenizer.batch_decode(outputs, skip_special_tokens = True)[0]\n",
    "    predictions[\"id\"] = user[\"id\"]\n",
    "    golds.append(predictions)\n",
    "final_json = {}\n",
    "final_json[\"task\"] = \"LaMP_2\"\n",
    "final_json[\"golds\"] = golds"
   ]
  },
  {
   "cell_type": "code",
   "execution_count": 28,
   "id": "93a6ea05-6f3f-4d60-8fef-0763ca42bb09",
   "metadata": {},
   "outputs": [],
   "source": [
    "with open(\"pred_news_categorization_no_personalization.json\", \"w\") as f:\n",
    "    json.dump(final_json, f)"
   ]
  }
 ],
 "metadata": {
  "kernelspec": {
   "display_name": "Python 3 (ipykernel)",
   "language": "python",
   "name": "python3"
  },
  "language_info": {
   "codemirror_mode": {
    "name": "ipython",
    "version": 3
   },
   "file_extension": ".py",
   "mimetype": "text/x-python",
   "name": "python",
   "nbconvert_exporter": "python",
   "pygments_lexer": "ipython3",
   "version": "3.9.6"
  }
 },
 "nbformat": 4,
 "nbformat_minor": 5
}
